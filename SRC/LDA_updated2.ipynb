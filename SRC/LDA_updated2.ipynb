{
  "nbformat": 4,
  "nbformat_minor": 0,
  "metadata": {
    "colab": {
      "provenance": []
    },
    "kernelspec": {
      "name": "python3",
      "display_name": "Python 3"
    },
    "language_info": {
      "name": "python"
    }
  },
  "cells": [
    {
      "cell_type": "code",
      "source": [
        "# Install packages\n",
        "!pip install pyLDAvis"
      ],
      "metadata": {
        "colab": {
          "base_uri": "https://localhost:8080/"
        },
        "id": "gtScFi7mjsZ1",
        "outputId": "af0a437b-f1ed-4642-963b-c2ca35fde96e"
      },
      "execution_count": null,
      "outputs": [
        {
          "output_type": "stream",
          "name": "stdout",
          "text": [
            "Looking in indexes: https://pypi.org/simple, https://us-python.pkg.dev/colab-wheels/public/simple/\n",
            "Collecting pyLDAvis\n",
            "  Downloading pyLDAvis-3.4.0-py3-none-any.whl (2.6 MB)\n",
            "\u001b[2K     \u001b[90m━━━━━━━━━━━━━━━━━━━━━━━━━━━━━━━━━━━━━━━━\u001b[0m \u001b[32m2.6/2.6 MB\u001b[0m \u001b[31m20.9 MB/s\u001b[0m eta \u001b[36m0:00:00\u001b[0m\n",
            "\u001b[?25hRequirement already satisfied: setuptools in /usr/local/lib/python3.8/dist-packages (from pyLDAvis) (57.4.0)\n",
            "Requirement already satisfied: scikit-learn>=1.0.0 in /usr/local/lib/python3.8/dist-packages (from pyLDAvis) (1.0.2)\n",
            "Collecting funcy\n",
            "  Downloading funcy-1.18-py2.py3-none-any.whl (33 kB)\n",
            "Requirement already satisfied: joblib>=1.2.0 in /usr/local/lib/python3.8/dist-packages (from pyLDAvis) (1.2.0)\n",
            "Requirement already satisfied: pandas>=1.3.4 in /usr/local/lib/python3.8/dist-packages (from pyLDAvis) (1.3.5)\n",
            "Requirement already satisfied: numexpr in /usr/local/lib/python3.8/dist-packages (from pyLDAvis) (2.8.4)\n",
            "Requirement already satisfied: gensim in /usr/local/lib/python3.8/dist-packages (from pyLDAvis) (3.6.0)\n",
            "Requirement already satisfied: scipy in /usr/local/lib/python3.8/dist-packages (from pyLDAvis) (1.7.3)\n",
            "Requirement already satisfied: jinja2 in /usr/local/lib/python3.8/dist-packages (from pyLDAvis) (2.11.3)\n",
            "Requirement already satisfied: numpy>=1.22.0 in /usr/local/lib/python3.8/dist-packages (from pyLDAvis) (1.22.4)\n",
            "Requirement already satisfied: python-dateutil>=2.7.3 in /usr/local/lib/python3.8/dist-packages (from pandas>=1.3.4->pyLDAvis) (2.8.2)\n",
            "Requirement already satisfied: pytz>=2017.3 in /usr/local/lib/python3.8/dist-packages (from pandas>=1.3.4->pyLDAvis) (2022.7.1)\n",
            "Requirement already satisfied: threadpoolctl>=2.0.0 in /usr/local/lib/python3.8/dist-packages (from scikit-learn>=1.0.0->pyLDAvis) (3.1.0)\n",
            "Requirement already satisfied: six>=1.5.0 in /usr/local/lib/python3.8/dist-packages (from gensim->pyLDAvis) (1.15.0)\n",
            "Requirement already satisfied: smart-open>=1.2.1 in /usr/local/lib/python3.8/dist-packages (from gensim->pyLDAvis) (6.3.0)\n",
            "Requirement already satisfied: MarkupSafe>=0.23 in /usr/local/lib/python3.8/dist-packages (from jinja2->pyLDAvis) (2.0.1)\n",
            "Installing collected packages: funcy, pyLDAvis\n",
            "Successfully installed funcy-1.18 pyLDAvis-3.4.0\n"
          ]
        }
      ]
    },
    {
      "cell_type": "code",
      "source": [
        "# Import plotting packages\n",
        "import pyLDAvis\n",
        "import pyLDAvis.gensim\n",
        "import matplotlib.pyplot as plt\n",
        "%matplotlib inline\n",
        "\n",
        "# Import other packages\n",
        "from nltk.tokenize import RegexpTokenizer\n",
        "import nltk\n",
        "nltk.download('stopwords')\n",
        "from nltk.corpus import stopwords\n",
        "from nltk.stem.porter import PorterStemmer\n",
        "from gensim import corpora, models\n",
        "import gensim\n",
        "from gensim.models import CoherenceModel\n",
        "import re\n",
        "from wordcloud import WordCloud"
      ],
      "metadata": {
        "colab": {
          "base_uri": "https://localhost:8080/"
        },
        "id": "rS3pqLprC7rR",
        "outputId": "5ab678a3-e2a0-44b0-8955-f6ae9a9dd7ea"
      },
      "execution_count": null,
      "outputs": [
        {
          "output_type": "stream",
          "name": "stderr",
          "text": [
            "[nltk_data] Downloading package stopwords to /root/nltk_data...\n",
            "[nltk_data]   Unzipping corpora/stopwords.zip.\n",
            "/usr/local/lib/python3.8/dist-packages/gensim/corpora/dictionary.py:11: DeprecationWarning: Using or importing the ABCs from 'collections' instead of from 'collections.abc' is deprecated since Python 3.3, and in 3.10 it will stop working\n",
            "  from collections import Mapping, defaultdict\n",
            "/usr/local/lib/python3.8/dist-packages/scipy/sparse/sparsetools.py:21: DeprecationWarning: `scipy.sparse.sparsetools` is deprecated!\n",
            "scipy.sparse.sparsetools is a private module for scipy.sparse, and should not be used.\n",
            "  _deprecated()\n"
          ]
        }
      ]
    },
    {
      "cell_type": "code",
      "source": [
        "# read in data to google colab (only use this code block if running on Google Colab)\n",
        "from google.colab import files\n",
        "uploades = files.upload()"
      ],
      "metadata": {
        "colab": {
          "base_uri": "https://localhost:8080/",
          "height": 74
        },
        "id": "Ovr185MXC-wK",
        "outputId": "632f2521-d9a7-45f8-94da-0c0eb51a834c"
      },
      "execution_count": null,
      "outputs": [
        {
          "output_type": "display_data",
          "data": {
            "text/plain": [
              "<IPython.core.display.HTML object>"
            ],
            "text/html": [
              "\n",
              "     <input type=\"file\" id=\"files-8f7ec817-a8da-461f-b1ca-ac86f875c759\" name=\"files[]\" multiple disabled\n",
              "        style=\"border:none\" />\n",
              "     <output id=\"result-8f7ec817-a8da-461f-b1ca-ac86f875c759\">\n",
              "      Upload widget is only available when the cell has been executed in the\n",
              "      current browser session. Please rerun this cell to enable.\n",
              "      </output>\n",
              "      <script>// Copyright 2017 Google LLC\n",
              "//\n",
              "// Licensed under the Apache License, Version 2.0 (the \"License\");\n",
              "// you may not use this file except in compliance with the License.\n",
              "// You may obtain a copy of the License at\n",
              "//\n",
              "//      http://www.apache.org/licenses/LICENSE-2.0\n",
              "//\n",
              "// Unless required by applicable law or agreed to in writing, software\n",
              "// distributed under the License is distributed on an \"AS IS\" BASIS,\n",
              "// WITHOUT WARRANTIES OR CONDITIONS OF ANY KIND, either express or implied.\n",
              "// See the License for the specific language governing permissions and\n",
              "// limitations under the License.\n",
              "\n",
              "/**\n",
              " * @fileoverview Helpers for google.colab Python module.\n",
              " */\n",
              "(function(scope) {\n",
              "function span(text, styleAttributes = {}) {\n",
              "  const element = document.createElement('span');\n",
              "  element.textContent = text;\n",
              "  for (const key of Object.keys(styleAttributes)) {\n",
              "    element.style[key] = styleAttributes[key];\n",
              "  }\n",
              "  return element;\n",
              "}\n",
              "\n",
              "// Max number of bytes which will be uploaded at a time.\n",
              "const MAX_PAYLOAD_SIZE = 100 * 1024;\n",
              "\n",
              "function _uploadFiles(inputId, outputId) {\n",
              "  const steps = uploadFilesStep(inputId, outputId);\n",
              "  const outputElement = document.getElementById(outputId);\n",
              "  // Cache steps on the outputElement to make it available for the next call\n",
              "  // to uploadFilesContinue from Python.\n",
              "  outputElement.steps = steps;\n",
              "\n",
              "  return _uploadFilesContinue(outputId);\n",
              "}\n",
              "\n",
              "// This is roughly an async generator (not supported in the browser yet),\n",
              "// where there are multiple asynchronous steps and the Python side is going\n",
              "// to poll for completion of each step.\n",
              "// This uses a Promise to block the python side on completion of each step,\n",
              "// then passes the result of the previous step as the input to the next step.\n",
              "function _uploadFilesContinue(outputId) {\n",
              "  const outputElement = document.getElementById(outputId);\n",
              "  const steps = outputElement.steps;\n",
              "\n",
              "  const next = steps.next(outputElement.lastPromiseValue);\n",
              "  return Promise.resolve(next.value.promise).then((value) => {\n",
              "    // Cache the last promise value to make it available to the next\n",
              "    // step of the generator.\n",
              "    outputElement.lastPromiseValue = value;\n",
              "    return next.value.response;\n",
              "  });\n",
              "}\n",
              "\n",
              "/**\n",
              " * Generator function which is called between each async step of the upload\n",
              " * process.\n",
              " * @param {string} inputId Element ID of the input file picker element.\n",
              " * @param {string} outputId Element ID of the output display.\n",
              " * @return {!Iterable<!Object>} Iterable of next steps.\n",
              " */\n",
              "function* uploadFilesStep(inputId, outputId) {\n",
              "  const inputElement = document.getElementById(inputId);\n",
              "  inputElement.disabled = false;\n",
              "\n",
              "  const outputElement = document.getElementById(outputId);\n",
              "  outputElement.innerHTML = '';\n",
              "\n",
              "  const pickedPromise = new Promise((resolve) => {\n",
              "    inputElement.addEventListener('change', (e) => {\n",
              "      resolve(e.target.files);\n",
              "    });\n",
              "  });\n",
              "\n",
              "  const cancel = document.createElement('button');\n",
              "  inputElement.parentElement.appendChild(cancel);\n",
              "  cancel.textContent = 'Cancel upload';\n",
              "  const cancelPromise = new Promise((resolve) => {\n",
              "    cancel.onclick = () => {\n",
              "      resolve(null);\n",
              "    };\n",
              "  });\n",
              "\n",
              "  // Wait for the user to pick the files.\n",
              "  const files = yield {\n",
              "    promise: Promise.race([pickedPromise, cancelPromise]),\n",
              "    response: {\n",
              "      action: 'starting',\n",
              "    }\n",
              "  };\n",
              "\n",
              "  cancel.remove();\n",
              "\n",
              "  // Disable the input element since further picks are not allowed.\n",
              "  inputElement.disabled = true;\n",
              "\n",
              "  if (!files) {\n",
              "    return {\n",
              "      response: {\n",
              "        action: 'complete',\n",
              "      }\n",
              "    };\n",
              "  }\n",
              "\n",
              "  for (const file of files) {\n",
              "    const li = document.createElement('li');\n",
              "    li.append(span(file.name, {fontWeight: 'bold'}));\n",
              "    li.append(span(\n",
              "        `(${file.type || 'n/a'}) - ${file.size} bytes, ` +\n",
              "        `last modified: ${\n",
              "            file.lastModifiedDate ? file.lastModifiedDate.toLocaleDateString() :\n",
              "                                    'n/a'} - `));\n",
              "    const percent = span('0% done');\n",
              "    li.appendChild(percent);\n",
              "\n",
              "    outputElement.appendChild(li);\n",
              "\n",
              "    const fileDataPromise = new Promise((resolve) => {\n",
              "      const reader = new FileReader();\n",
              "      reader.onload = (e) => {\n",
              "        resolve(e.target.result);\n",
              "      };\n",
              "      reader.readAsArrayBuffer(file);\n",
              "    });\n",
              "    // Wait for the data to be ready.\n",
              "    let fileData = yield {\n",
              "      promise: fileDataPromise,\n",
              "      response: {\n",
              "        action: 'continue',\n",
              "      }\n",
              "    };\n",
              "\n",
              "    // Use a chunked sending to avoid message size limits. See b/62115660.\n",
              "    let position = 0;\n",
              "    do {\n",
              "      const length = Math.min(fileData.byteLength - position, MAX_PAYLOAD_SIZE);\n",
              "      const chunk = new Uint8Array(fileData, position, length);\n",
              "      position += length;\n",
              "\n",
              "      const base64 = btoa(String.fromCharCode.apply(null, chunk));\n",
              "      yield {\n",
              "        response: {\n",
              "          action: 'append',\n",
              "          file: file.name,\n",
              "          data: base64,\n",
              "        },\n",
              "      };\n",
              "\n",
              "      let percentDone = fileData.byteLength === 0 ?\n",
              "          100 :\n",
              "          Math.round((position / fileData.byteLength) * 100);\n",
              "      percent.textContent = `${percentDone}% done`;\n",
              "\n",
              "    } while (position < fileData.byteLength);\n",
              "  }\n",
              "\n",
              "  // All done.\n",
              "  yield {\n",
              "    response: {\n",
              "      action: 'complete',\n",
              "    }\n",
              "  };\n",
              "}\n",
              "\n",
              "scope.google = scope.google || {};\n",
              "scope.google.colab = scope.google.colab || {};\n",
              "scope.google.colab._files = {\n",
              "  _uploadFiles,\n",
              "  _uploadFilesContinue,\n",
              "};\n",
              "})(self);\n",
              "</script> "
            ]
          },
          "metadata": {}
        },
        {
          "output_type": "stream",
          "name": "stdout",
          "text": [
            "Saving state_ofthe_union_texts.csv to state_ofthe_union_texts.csv\n"
          ]
        }
      ]
    },
    {
      "cell_type": "code",
      "source": [
        "# Load in state of the union address data\n",
        "import pandas as pd\n",
        "# Read in data\n",
        "url = \"/content/state_ofthe_union_texts.csv\"\n",
        "df = pd.read_csv(url)"
      ],
      "metadata": {
        "id": "uLVNJpLGDSFo"
      },
      "execution_count": null,
      "outputs": []
    },
    {
      "cell_type": "code",
      "source": [
        "# Create a WordCloud to see possible stop words\n",
        "\n",
        "# See reference [1]\n",
        "\n",
        "# remove punctuation\n",
        "df['Text_processed'] = \\\n",
        "df['Text'].map(lambda x: re.sub('[,\\.!?]', '', x))\n",
        "\n",
        "# convert titles to lowercase\n",
        "df['Text_processed'] = \\\n",
        "df['Text_processed'].map(lambda x: x.lower())\n",
        "\n",
        "# join text together\n",
        "long_string = ','.join(list(df['Text_processed'].values))\n",
        "\n",
        "# Create a WordCloud object\n",
        "wordcloud = WordCloud(background_color=\"white\", max_words=1000, contour_width=3, contour_color='steelblue')\n",
        "\n",
        "# Generate a word cloud\n",
        "wordcloud.generate(long_string)\n",
        "\n",
        "# Visualize the word cloud\n",
        "wordcloud.to_image()"
      ],
      "metadata": {
        "id": "Pv9zEM8-Ko1Y"
      },
      "execution_count": null,
      "outputs": []
    },
    {
      "cell_type": "code",
      "source": [
        "# See reference [2]\n",
        "# Tokenize\n",
        "tokenizer = RegexpTokenizer(r'\\w+') # Separate the sentence into words without punctuation\n",
        "\n",
        "# Use english stop wrods from stopwords package\n",
        "stop_words = stopwords.words('english')\n",
        "# Append stop words that are specific to the State of the Union Addresses\n",
        "stop_words.extend(['shall', 'applause', 'nation', 'year', 'must', 'world', \n",
        "                   'people', 'america', 'american', 'us', 'congress','u', 'y'])\n",
        "\n",
        "# Create p_stemmer of class PorterStemmer\n",
        "p_stemmer = PorterStemmer()\n",
        "\n",
        "# Topic Modeling for all SOTU addresses (SOTU addresses as a whole)\n",
        "\n",
        "# Compile speech documents into a list\n",
        "doc_set = df['Text'].values.tolist()\n",
        "\n",
        "# Tokenize speeches\n",
        "texts = []\n",
        "\n",
        "# Loop through speech document list\n",
        "for i in doc_set:\n",
        "    \n",
        "    # Clean and tokenize each speech document string\n",
        "    raw = i.lower()\n",
        "    tokens = tokenizer.tokenize(raw)\n",
        "\n",
        "    # Remove stop words from tokens\n",
        "    stopped_tokens = [i for i in tokens if not i in stop_words]\n",
        "    \n",
        "    # Stem tokens\n",
        "    stemmed_tokens = [p_stemmer.stem(i) for i in stopped_tokens]\n",
        "    \n",
        "    # Add tokens to list\n",
        "    texts.append(stemmed_tokens)\n",
        "\n",
        "\n",
        "# Turn our tokenized documents into a id <-> term dictionary\n",
        "dictionary = corpora.Dictionary(texts)\n",
        "\n",
        "# Filter extremes\n",
        "# No tokens appearing in less than 5 speeches, no tokens in above 50% of speeches\n",
        "dictionary.filter_extremes(no_below=5, no_above=0.5, keep_n=100000)\n",
        "\n",
        "# Convert tokenized documents into a document-term matrix\n",
        "corpus = [dictionary.doc2bow(text) for text in texts]\n",
        "\n",
        "# Generate LDA model\n",
        "ldamodel = gensim.models.ldamodel.LdaModel(corpus, \n",
        "                                           num_topics=3, \n",
        "                                           id2word = dictionary, \n",
        "                                           passes=100)\n",
        "\n",
        "# Print topics from the model\n",
        "for idx, topic in ldamodel.print_topics():\n",
        "  print(\"Topic: {} \\nWords: {}\".format(idx, topic ))\n",
        "  print(\"\\n\")"
      ],
      "metadata": {
        "id": "z0TaUEp4xSgr"
      },
      "execution_count": null,
      "outputs": []
    },
    {
      "cell_type": "code",
      "source": [
        "# Coherence of entire corpus, not each topic for each speech\n",
        "\n",
        "# Compute Coherence Score\n",
        "coherence_model_lda = CoherenceModel(model=ldamodel, texts=texts, coherence='c_v')\n",
        "coherence_lda = coherence_model_lda.get_coherence()\n",
        "print('Coherence Score: ', coherence_lda)"
      ],
      "metadata": {
        "id": "60Pn6IcsCCTm",
        "colab": {
          "base_uri": "https://localhost:8080/"
        },
        "outputId": "67575200-8c81-4ebb-be3c-de18bedf190b"
      },
      "execution_count": null,
      "outputs": [
        {
          "output_type": "stream",
          "name": "stdout",
          "text": [
            "Coherence Score:  0.5303897251003954\n"
          ]
        }
      ]
    },
    {
      "cell_type": "code",
      "source": [
        "# Visualize the topics\n",
        "pyLDAvis.enable_notebook()\n",
        "vis = pyLDAvis.gensim.prepare(ldamodel, corpus, dictionary)\n",
        "vis"
      ],
      "metadata": {
        "colab": {
          "base_uri": "https://localhost:8080/",
          "height": 915
        },
        "id": "rBLwid5BJJZR",
        "outputId": "9b9d41c0-f6ab-4541-9046-7d8786447f6e"
      },
      "execution_count": null,
      "outputs": [
        {
          "output_type": "stream",
          "name": "stderr",
          "text": [
            "/usr/local/lib/python3.8/dist-packages/pyLDAvis/_prepare.py:243: FutureWarning: In a future version of pandas all arguments of DataFrame.drop except for the argument 'labels' will be keyword-only\n",
            "  default_term_info = default_term_info.sort_values(\n"
          ]
        },
        {
          "output_type": "execute_result",
          "data": {
            "text/plain": [
              "PreparedData(topic_coordinates=              x         y  topics  cluster       Freq\n",
              "topic                                                \n",
              "1     -0.130326 -0.083450       1        1  56.848988\n",
              "0      0.178359 -0.030334       2        1  26.564386\n",
              "2     -0.048033  0.113784       3        1  16.586627, topic_info=          Term         Freq        Total Category  logprob  loglift\n",
              "5748   program  1154.000000  1154.000000  Default  30.0000  30.0000\n",
              "4564       job   729.000000   729.000000  Default  29.0000  29.0000\n",
              "1605  american   797.000000   797.000000  Default  28.0000  28.0000\n",
              "2595      nthe   398.000000   398.000000  Default  27.0000  27.0000\n",
              "5285       nof   383.000000   383.000000  Default  26.0000  26.0000\n",
              "...        ...          ...          ...      ...      ...      ...\n",
              "2397       per   168.811883   659.690382   Topic3  -5.6794   0.4336\n",
              "178   function   111.677624   238.174801   Topic3  -6.0926   1.0392\n",
              "1782     canal   127.731743   365.753521   Topic3  -5.9582   0.7445\n",
              "1481   project   109.176960   286.737660   Topic3  -6.1152   0.8310\n",
              "5748   program   107.350382  1154.364355   Topic3  -6.1321  -0.5786\n",
              "\n",
              "[219 rows x 6 columns], token_table=      Topic      Freq    Term\n",
              "term                         \n",
              "2410      1  0.992272      01\n",
              "5055      1  0.991874    1890\n",
              "5429      1  0.984055    1893\n",
              "6074      2  0.994890    1946\n",
              "6075      2  0.994531    1947\n",
              "...     ...       ...     ...\n",
              "1044      2  0.822601   women\n",
              "1044      3  0.109225   women\n",
              "5329      1  0.010234  worker\n",
              "5329      2  0.874981  worker\n",
              "5329      3  0.115129  worker\n",
              "\n",
              "[366 rows x 3 columns], R=30, lambda_step=0.01, plot_opts={'xlab': 'PC1', 'ylab': 'PC2'}, topic_order=[2, 1, 3])"
            ],
            "text/html": [
              "\n",
              "<link rel=\"stylesheet\" type=\"text/css\" href=\"https://cdn.jsdelivr.net/gh/bmabey/pyLDAvis@3.4.0/pyLDAvis/js/ldavis.v1.0.0.css\">\n",
              "\n",
              "\n",
              "<div id=\"ldavis_el1761400298849687362249278380\" style=\"background-color:white;\"></div>\n",
              "<script type=\"text/javascript\">\n",
              "\n",
              "var ldavis_el1761400298849687362249278380_data = {\"mdsDat\": {\"x\": [-0.13032610991413798, 0.1783587163997915, -0.048032606485653516], \"y\": [-0.08344954350199917, -0.030334004001390767, 0.11378354750338976], \"topics\": [1, 2, 3], \"cluster\": [1, 1, 1], \"Freq\": [56.84898751855698, 26.564385637469947, 16.58662684397309]}, \"tinfo\": {\"Term\": [\"program\", \"job\", \"american\", \"nthe\", \"nof\", \"tonight\", \"today\", \"billion\", \"budget\", \"corpor\", \"method\", \"nand\", \"get\", \"percent\", \"nto\", \"goal\", \"challeng\", \"cut\", \"interst\", \"worker\", \"farmer\", \"soviet\", \"cannot\", \"tariff\", \"nuclear\", \"farm\", \"fight\", \"cent\", \"weapon\", \"spend\", \"spain\", \"coin\", \"30th\", \"speci\", \"steamer\", \"coinag\", \"postag\", \"consul\", \"redress\", \"whilst\", \"proprieti\", \"fortif\", \"circul\", \"consular\", \"emigr\", \"thereof\", \"commenc\", \"01\", \"exposit\", \"emperor\", \"1890\", \"plenipotentiari\", \"copi\", \"alleg\", \"tribe\", \"1893\", \"steamship\", \"occurr\", \"legat\", \"superintend\", \"articl\", \"silver\", \"intercours\", \"exhibit\", \"british\", \"stipul\", \"correspond\", \"instruct\", \"mexico\", \"minist\", \"commission\", \"spanish\", \"mexican\", \"boundari\", \"gold\", \"disposit\", \"heretofor\", \"note\", \"currenc\", \"postmast\", \"franc\", \"texa\", \"mail\", \"injuri\", \"june\", \"island\", \"furnish\", \"pension\", \"preced\", \"per\", \"juli\", \"cent\", \"bond\", \"navig\", \"tariff\", \"contract\", \"tonight\", \"goal\", \"soviet\", \"percent\", \"nuclear\", \"technolog\", \"communist\", \"terrorist\", \"iraq\", \"ensur\", \"global\", \"job\", \"medicar\", \"talk\", \"afghanistan\", \"coverag\", \"vietnam\", \"atom\", \"1947\", \"iran\", \"1980\", \"kid\", \"iraqi\", \"sector\", \"environ\", \"tomorrow\", \"1946\", \"al\", \"strategi\", \"nato\", \"today\", \"democrat\", \"billion\", \"weapon\", \"speaker\", \"american\", \"challeng\", \"drug\", \"program\", \"spend\", \"get\", \"basic\", \"budget\", \"worker\", \"child\", \"cut\", \"fight\", \"start\", \"move\", \"ahead\", \"cannot\", \"hard\", \"democraci\", \"women\", \"expand\", \"area\", \"level\", \"alli\", \"thank\", \"deficit\", \"nof\", \"nto\", \"nfor\", \"nbe\", \"nthat\", \"nwhich\", \"nand\", \"nare\", \"nbi\", \"nwith\", \"nnot\", \"nhave\", \"nbut\", \"nfrom\", \"nshould\", \"nwill\", \"nha\", \"nit\", \"nan\", \"nthe\", \"nat\", \"battleship\", \"nif\", \"nthey\", \"tile\", \"ntheir\", \"nnation\", \"nall\", \"nwe\", \"nunder\", \"ni\", \"na\", \"nin\", \"interst\", \"earner\", \"readjust\", \"corpor\", \"nour\", \"waterway\", \"forest\", \"farmer\", \"type\", \"method\", \"procedur\", \"philippin\", \"railway\", \"studi\", \"farm\", \"employe\", \"committe\", \"government\", \"railroad\", \"investig\", \"tariff\", \"veteran\", \"board\", \"bureau\", \"cent\", \"per\", \"function\", \"canal\", \"project\", \"program\"], \"Freq\": [1154.0, 729.0, 797.0, 398.0, 383.0, 499.0, 492.0, 484.0, 578.0, 462.0, 528.0, 251.0, 456.0, 320.0, 232.0, 311.0, 330.0, 437.0, 241.0, 390.0, 352.0, 268.0, 415.0, 502.0, 242.0, 382.0, 349.0, 596.0, 256.0, 280.0, 469.45723845701383, 172.65770442897158, 177.47929966569976, 140.49291836924635, 117.14895664870434, 114.23863007376093, 112.28265602551039, 112.27187901020224, 110.32668197725984, 103.53234077733225, 105.46481836860264, 110.29182676306561, 292.16687673032106, 138.2868051614786, 91.8481038969075, 103.43361227387346, 248.43299924741586, 86.00609391705048, 109.20196781242048, 88.90112758189056, 85.02665746817654, 83.07815732441235, 80.15208427787962, 84.94571646299396, 316.52133400149427, 69.44343843373032, 84.87214090194239, 67.50131773086673, 82.91868116192933, 69.42322536750736, 471.2118509255545, 336.0760458675247, 354.29714892432577, 271.9184721515832, 451.06216499024305, 198.5295220713894, 269.49751869994617, 321.5386508794545, 791.2258647299241, 508.59427027952563, 465.7374426700508, 228.03450525694828, 251.53441324840853, 273.33535879365127, 401.7786866454848, 230.87871045526185, 233.37515231421744, 373.69830064725556, 349.5549861078377, 241.83916180438774, 330.7896881481208, 253.29829414731483, 350.1960065279778, 311.90593176030495, 528.2010628361852, 546.8433470328789, 305.5353451687013, 314.3246371245767, 272.38621236401485, 455.97119899344204, 294.46489529919336, 421.5988503012004, 306.34272405387253, 270.7520106099692, 313.53668250304423, 282.4522996229847, 499.0662780487193, 310.31475069582086, 267.980132137099, 319.8273981030788, 241.98733295101894, 193.84400654396813, 159.17284847919126, 147.63382298899322, 131.26527151467752, 111.03642394878773, 103.33838956808626, 724.0172914413116, 95.64088043033391, 100.41353273932869, 86.97449156200402, 94.60950600359894, 84.0863372361652, 84.0567485500311, 90.72234880331078, 77.34422659329617, 77.34271536796885, 75.42146880795121, 72.53313479373507, 66.75190083756084, 86.74110861160896, 63.85430135342634, 68.59216322813295, 58.09068607301927, 70.46489392627078, 53.27314392145137, 482.84754982194465, 205.43610000160504, 467.6867161834416, 248.64520199667902, 94.86170555227672, 744.7797581991478, 316.8469668843882, 170.85602090716435, 1046.6866777794376, 267.0886382010261, 406.3267659510496, 191.8558421892741, 499.6759284612489, 342.16257125763883, 196.97712680944852, 374.3999193623596, 305.01556536729856, 211.11698030273618, 276.1294700033514, 174.0140026722367, 336.97479272306276, 207.17559407164788, 199.12809804879447, 240.9704810310879, 256.5210817969969, 294.24666583277104, 234.58807887527303, 228.8272694979889, 216.56890996677976, 212.16120014475328, 383.2604067417422, 232.31578035595606, 98.88719571171409, 72.20166635195659, 74.21286729864649, 61.93776487122272, 248.71270204858945, 51.67188988747724, 46.538817184756766, 46.51779909000046, 43.458947096320244, 42.430487359228565, 42.418726892302224, 37.29683929119858, 35.24645021327812, 35.24568210058993, 34.219900689014004, 107.64595880373543, 32.15482253474181, 390.6534827351164, 26.006957897857006, 45.99206479209101, 23.953750968333235, 23.953497807597053, 27.936750406904682, 21.90059726010059, 19.843263522894375, 19.843263522894375, 52.42365644722673, 17.79409421943007, 121.19021929183027, 102.2234859808123, 136.77461009437707, 215.06646646459342, 41.65006760706559, 71.96962727628528, 316.0168186104459, 41.80171376486595, 71.79159774221745, 168.16280150659824, 222.31445834152217, 85.76581146514802, 298.8939009702759, 87.08777655392569, 127.74539078496859, 130.92386985697507, 146.0347580244095, 195.74098137579128, 140.45561322770746, 132.76439443825262, 89.27198984918452, 164.48401928336256, 144.37158404613453, 179.48784347400382, 116.29289389420089, 153.3637843515293, 131.47429883396856, 167.10104537904536, 168.81188261955992, 111.6776240785983, 127.73174311982707, 109.17695986311031, 107.3503821369352], \"Total\": [1154.0, 729.0, 797.0, 398.0, 383.0, 499.0, 492.0, 484.0, 578.0, 462.0, 528.0, 251.0, 456.0, 320.0, 232.0, 311.0, 330.0, 437.0, 241.0, 390.0, 352.0, 268.0, 415.0, 502.0, 242.0, 382.0, 349.0, 596.0, 256.0, 280.0, 471.2528804055579, 173.32561047150125, 178.19494378824783, 141.194671352065, 117.82754736254692, 114.90606602427825, 112.95920773394872, 112.95970060640792, 111.01151271175452, 104.19561018939133, 106.14365761012122, 111.01369470206383, 294.1259928477629, 139.24751366172404, 92.51170527432677, 104.2000270890254, 250.30552668183051, 86.66974744662612, 110.04653745564762, 89.59187086367955, 85.69638465819757, 83.74908025481045, 80.82840759278464, 85.69786022688619, 319.42895499181964, 70.11804407134419, 85.70459845321447, 68.17049239027187, 83.74924234660944, 70.1190961572985, 477.3158451863746, 339.78989967180917, 358.50335302133266, 274.6928920755165, 459.6629938574046, 200.66348715399553, 273.79961528329994, 328.0795928987601, 824.3374921167355, 525.8275991628755, 481.79555752850524, 232.85977287462842, 257.97035557536674, 281.3226404178022, 419.09072861976415, 237.91540325158985, 240.85933902610904, 395.0054969781281, 372.014746410559, 252.71847427317368, 352.0602415206322, 265.6943778436598, 376.7909927627351, 333.8698784720202, 602.0256848005043, 669.0742771869201, 338.4839985270968, 360.88153413662707, 298.0461487126552, 659.690382457354, 341.56946882328987, 596.6178962791681, 367.6420297755004, 307.60880913955054, 502.79100395056264, 380.8896073150071, 499.73328669352884, 311.02014491941827, 268.65470326852204, 320.6515474342104, 242.6581019356105, 194.51671573876834, 159.85546543429, 148.30059593460084, 131.93251823822447, 111.71347492429804, 104.01077113346328, 729.0489923505387, 96.30781926615617, 101.12459523084357, 87.6423872592355, 95.34940532017767, 84.75388229810176, 84.7557962345443, 91.50043258387177, 78.0142397323721, 78.01430948269186, 76.08840379029056, 73.19989326857257, 67.42318558428325, 87.64518662192589, 64.53520262448662, 69.35439406827516, 58.75745322011561, 71.27813021740388, 53.943521205425796, 492.59264769723336, 209.1467565572449, 484.3024646166376, 256.3110070382063, 96.31970147385115, 797.0050925913255, 330.60203380988514, 176.47929319467002, 1154.364355369298, 280.98089915043306, 456.7831740513533, 204.91431291738223, 578.7405207247346, 390.86570833162017, 214.6609397986994, 437.98657952737597, 349.16095001315296, 233.69547641035896, 321.23151385188146, 189.67025961620104, 415.6281576097813, 232.97299006526003, 222.90800177280568, 292.9731670778429, 322.18965818229884, 415.35227351758823, 292.0643091937483, 281.30500970692964, 261.5649682333783, 293.18466676564697, 383.90837248510724, 232.99674323756568, 99.54058303835808, 72.84938314816365, 74.9001330776121, 62.58351456556826, 251.34578523557366, 52.31754844401143, 47.18455318696254, 47.18328367788223, 44.10476731162149, 43.07805911123194, 43.0774565077954, 37.94504589020632, 35.8919915047095, 35.89196006545982, 34.86540055241252, 109.72868591988535, 32.81159616492346, 398.89378889346676, 26.652618640020602, 47.15634449653204, 24.59942517201852, 24.599405083243898, 28.69943440794484, 22.546228508747404, 20.492821065983097, 20.49282142018631, 54.289905063615095, 18.439830826702448, 126.00573971548872, 107.45185825651151, 146.26830980067518, 241.76601922466222, 44.96514409733527, 82.56945661538644, 462.55582524371994, 45.95448160750787, 87.35647031174832, 246.08449378571896, 352.2653741268059, 109.39677259224673, 528.1721980388022, 117.31472384182038, 196.27431003971878, 207.26259282215017, 244.447127150914, 382.44541190360565, 240.33493113104532, 222.73689821770242, 126.20070637138818, 370.4709000457002, 312.9657877462722, 502.79100395056264, 230.78151225447337, 414.7310706188133, 310.5563868325549, 596.6178962791681, 659.690382457354, 238.17480057531367, 365.75352103176743, 286.7376597462784, 1154.364355369298], \"Category\": [\"Default\", \"Default\", \"Default\", \"Default\", \"Default\", \"Default\", \"Default\", \"Default\", \"Default\", \"Default\", \"Default\", \"Default\", \"Default\", \"Default\", \"Default\", \"Default\", \"Default\", \"Default\", \"Default\", \"Default\", \"Default\", \"Default\", \"Default\", \"Default\", \"Default\", \"Default\", \"Default\", \"Default\", \"Default\", \"Default\", \"Topic1\", \"Topic1\", \"Topic1\", \"Topic1\", \"Topic1\", \"Topic1\", \"Topic1\", \"Topic1\", \"Topic1\", \"Topic1\", \"Topic1\", \"Topic1\", \"Topic1\", \"Topic1\", \"Topic1\", \"Topic1\", \"Topic1\", \"Topic1\", \"Topic1\", \"Topic1\", \"Topic1\", \"Topic1\", \"Topic1\", \"Topic1\", \"Topic1\", \"Topic1\", \"Topic1\", \"Topic1\", \"Topic1\", \"Topic1\", \"Topic1\", \"Topic1\", \"Topic1\", \"Topic1\", \"Topic1\", \"Topic1\", \"Topic1\", \"Topic1\", \"Topic1\", \"Topic1\", \"Topic1\", \"Topic1\", \"Topic1\", \"Topic1\", \"Topic1\", \"Topic1\", \"Topic1\", \"Topic1\", \"Topic1\", \"Topic1\", \"Topic1\", \"Topic1\", \"Topic1\", \"Topic1\", \"Topic1\", \"Topic1\", \"Topic1\", \"Topic1\", \"Topic1\", \"Topic1\", \"Topic1\", \"Topic1\", \"Topic1\", \"Topic1\", \"Topic1\", \"Topic1\", \"Topic2\", \"Topic2\", \"Topic2\", \"Topic2\", \"Topic2\", \"Topic2\", \"Topic2\", \"Topic2\", \"Topic2\", \"Topic2\", \"Topic2\", \"Topic2\", \"Topic2\", \"Topic2\", \"Topic2\", \"Topic2\", \"Topic2\", \"Topic2\", \"Topic2\", \"Topic2\", \"Topic2\", \"Topic2\", \"Topic2\", \"Topic2\", \"Topic2\", \"Topic2\", \"Topic2\", \"Topic2\", \"Topic2\", \"Topic2\", \"Topic2\", \"Topic2\", \"Topic2\", \"Topic2\", \"Topic2\", \"Topic2\", \"Topic2\", \"Topic2\", \"Topic2\", \"Topic2\", \"Topic2\", \"Topic2\", \"Topic2\", \"Topic2\", \"Topic2\", \"Topic2\", \"Topic2\", \"Topic2\", \"Topic2\", \"Topic2\", \"Topic2\", \"Topic2\", \"Topic2\", \"Topic2\", \"Topic2\", \"Topic2\", \"Topic2\", \"Topic2\", \"Topic2\", \"Topic2\", \"Topic3\", \"Topic3\", \"Topic3\", \"Topic3\", \"Topic3\", \"Topic3\", \"Topic3\", \"Topic3\", \"Topic3\", \"Topic3\", \"Topic3\", \"Topic3\", \"Topic3\", \"Topic3\", \"Topic3\", \"Topic3\", \"Topic3\", \"Topic3\", \"Topic3\", \"Topic3\", \"Topic3\", \"Topic3\", \"Topic3\", \"Topic3\", \"Topic3\", \"Topic3\", \"Topic3\", \"Topic3\", \"Topic3\", \"Topic3\", \"Topic3\", \"Topic3\", \"Topic3\", \"Topic3\", \"Topic3\", \"Topic3\", \"Topic3\", \"Topic3\", \"Topic3\", \"Topic3\", \"Topic3\", \"Topic3\", \"Topic3\", \"Topic3\", \"Topic3\", \"Topic3\", \"Topic3\", \"Topic3\", \"Topic3\", \"Topic3\", \"Topic3\", \"Topic3\", \"Topic3\", \"Topic3\", \"Topic3\", \"Topic3\", \"Topic3\", \"Topic3\", \"Topic3\", \"Topic3\", \"Topic3\", \"Topic3\", \"Topic3\"], \"logprob\": [30.0, 29.0, 28.0, 27.0, 26.0, 25.0, 24.0, 23.0, 22.0, 21.0, 20.0, 19.0, 18.0, 17.0, 16.0, 15.0, 14.0, 13.0, 12.0, 11.0, 10.0, 9.0, 8.0, 7.0, 6.0, 5.0, 4.0, 3.0, 2.0, 1.0, -5.8884, -6.8887, -6.8611, -7.0948, -7.2765, -7.3017, -7.319, -7.3191, -7.3365, -7.4001, -7.3816, -7.3369, -6.3627, -7.1107, -7.5198, -7.4011, -6.5248, -7.5856, -7.3468, -7.5525, -7.597, -7.6202, -7.6561, -7.598, -6.2826, -7.7995, -7.5988, -7.8278, -7.6221, -7.7998, -5.8847, -6.2226, -6.1698, -6.4345, -5.9284, -6.749, -6.4434, -6.2669, -5.3664, -5.8083, -5.8964, -6.6105, -6.5124, -6.4293, -6.0441, -6.5981, -6.5873, -6.1165, -6.1833, -6.5517, -6.2385, -6.5054, -6.1815, -6.2973, -5.7705, -5.7358, -6.3179, -6.2896, -6.4328, -5.9176, -6.3548, -5.9959, -6.3153, -6.4388, -6.2921, -6.3965, -5.0664, -5.5416, -5.6882, -5.5114, -5.7903, -6.0121, -6.2092, -6.2844, -6.4019, -6.5693, -6.6411, -4.6943, -6.7186, -6.6699, -6.8135, -6.7294, -6.8473, -6.8477, -6.7714, -6.9309, -6.9309, -6.9561, -6.9951, -7.0782, -6.8162, -7.1226, -7.051, -7.2172, -7.024, -7.3037, -5.0995, -5.954, -5.1314, -5.7631, -6.7267, -4.6661, -5.5207, -6.1383, -4.3258, -5.6916, -5.272, -6.0224, -5.0652, -5.4439, -5.9961, -5.3538, -5.5588, -5.9267, -5.6583, -6.12, -5.4591, -5.9456, -5.9852, -5.7945, -5.7319, -5.5947, -5.8213, -5.8462, -5.9012, -5.9218, -4.8595, -5.3601, -6.2142, -6.5287, -6.5012, -6.6821, -5.2919, -6.8633, -6.9679, -6.9683, -7.0364, -7.0603, -7.0606, -7.1893, -7.2458, -7.2458, -7.2754, -6.1293, -7.3376, -4.8404, -7.5498, -6.9797, -7.6321, -7.6321, -7.4782, -7.7217, -7.8203, -7.8203, -6.8488, -7.9293, -6.0108, -6.181, -5.8898, -5.4372, -7.0789, -6.5319, -5.0524, -7.0752, -6.5344, -5.6832, -5.4041, -6.3566, -5.1081, -6.3413, -5.9581, -5.9336, -5.8243, -5.5314, -5.8633, -5.9196, -6.3165, -5.7054, -5.8358, -5.6181, -6.0521, -5.7754, -5.9294, -5.6896, -5.6794, -6.0926, -5.9582, -6.1152, -6.1321], \"loglift\": [30.0, 29.0, 28.0, 27.0, 26.0, 25.0, 24.0, 23.0, 22.0, 21.0, 20.0, 19.0, 18.0, 17.0, 16.0, 15.0, 14.0, 13.0, 12.0, 11.0, 10.0, 9.0, 8.0, 7.0, 6.0, 5.0, 4.0, 3.0, 2.0, 1.0, 0.561, 0.5609, 0.5607, 0.5598, 0.559, 0.5589, 0.5588, 0.5587, 0.5586, 0.5584, 0.5584, 0.5582, 0.5581, 0.5578, 0.5576, 0.5574, 0.5573, 0.5571, 0.5571, 0.557, 0.5569, 0.5567, 0.5564, 0.556, 0.5556, 0.5551, 0.555, 0.5549, 0.5548, 0.5548, 0.5519, 0.5538, 0.553, 0.5546, 0.5459, 0.5541, 0.5489, 0.5446, 0.5238, 0.5314, 0.5309, 0.5438, 0.5395, 0.536, 0.5226, 0.5347, 0.5332, 0.5093, 0.5025, 0.5208, 0.5025, 0.517, 0.4916, 0.4967, 0.4339, 0.363, 0.4624, 0.4266, 0.4747, 0.1954, 0.4164, 0.2175, 0.3824, 0.4371, 0.0925, 0.2658, 1.3243, 1.3233, 1.3231, 1.323, 1.3228, 1.3221, 1.3213, 1.3211, 1.3205, 1.3195, 1.3191, 1.3187, 1.3186, 1.3185, 1.3179, 1.3178, 1.3177, 1.3173, 1.3171, 1.317, 1.317, 1.3168, 1.3164, 1.3156, 1.3152, 1.315, 1.3145, 1.3142, 1.3141, 1.3131, 1.3056, 1.3077, 1.2907, 1.2952, 1.3103, 1.2578, 1.2831, 1.2932, 1.2277, 1.2749, 1.2085, 1.2598, 1.1787, 1.1925, 1.2396, 1.1687, 1.1904, 1.224, 1.1743, 1.2394, 1.1158, 1.2082, 1.2128, 1.1302, 1.0977, 0.9809, 1.1065, 1.1191, 1.1368, 1.0021, 1.7949, 1.7936, 1.79, 1.7876, 1.7874, 1.7862, 1.786, 1.7842, 1.7828, 1.7824, 1.7818, 1.7814, 1.7812, 1.7793, 1.7784, 1.7784, 1.7779, 1.7774, 1.7764, 1.7757, 1.7721, 1.7716, 1.77, 1.77, 1.7696, 1.7675, 1.7644, 1.7644, 1.7616, 1.7609, 1.7576, 1.7467, 1.7295, 1.6796, 1.72, 1.6592, 1.4156, 1.7019, 1.6003, 1.4158, 1.3363, 1.5532, 1.2272, 1.4986, 1.3671, 1.3372, 1.2814, 1.1268, 1.2594, 1.2792, 1.4504, 0.9846, 1.0229, 0.7665, 1.1112, 0.8018, 0.937, 0.5239, 0.4336, 1.0392, 0.7445, 0.831, -0.5786]}, \"token.table\": {\"Topic\": [1, 1, 1, 2, 2, 2, 1, 2, 2, 3, 2, 1, 1, 2, 3, 1, 2, 3, 1, 2, 3, 1, 2, 3, 2, 2, 3, 1, 3, 1, 2, 3, 1, 2, 3, 1, 2, 3, 1, 2, 1, 2, 3, 2, 3, 1, 3, 1, 2, 3, 1, 2, 3, 1, 2, 3, 1, 2, 3, 1, 2, 3, 1, 3, 1, 1, 1, 3, 1, 3, 1, 2, 3, 2, 1, 1, 2, 1, 2, 3, 1, 1, 2, 3, 1, 3, 2, 1, 2, 3, 1, 2, 3, 1, 2, 3, 2, 3, 2, 3, 1, 3, 1, 2, 3, 1, 2, 3, 1, 1, 1, 2, 3, 2, 1, 2, 1, 3, 1, 2, 3, 1, 3, 1, 2, 3, 1, 2, 3, 1, 2, 3, 1, 2, 3, 1, 1, 2, 3, 1, 2, 3, 1, 2, 3, 1, 2, 3, 2, 2, 1, 2, 3, 1, 2, 3, 1, 2, 3, 1, 3, 1, 2, 3, 1, 2, 1, 3, 1, 2, 3, 1, 2, 3, 2, 2, 2, 1, 2, 3, 1, 2, 3, 1, 2, 3, 1, 2, 3, 2, 1, 1, 2, 3, 1, 2, 3, 2, 1, 2, 3, 1, 2, 1, 2, 3, 1, 2, 3, 1, 2, 3, 2, 3, 3, 3, 2, 3, 3, 3, 2, 1, 3, 3, 3, 3, 3, 3, 3, 3, 1, 3, 3, 1, 2, 3, 1, 3, 3, 3, 3, 1, 2, 3, 1, 2, 3, 3, 3, 1, 3, 3, 3, 3, 2, 3, 2, 3, 3, 3, 3, 1, 1, 2, 3, 1, 2, 3, 2, 1, 2, 3, 1, 1, 1, 3, 1, 2, 3, 1, 2, 3, 2, 3, 1, 2, 3, 1, 1, 2, 3, 1, 2, 3, 1, 2, 3, 1, 2, 1, 2, 2, 1, 2, 1, 2, 3, 1, 2, 1, 1, 2, 3, 1, 2, 3, 1, 1, 3, 1, 3, 2, 1, 2, 3, 1, 2, 1, 2, 3, 2, 2, 1, 2, 1, 2, 3, 1, 3, 2, 3, 2, 2, 1, 2, 3, 1, 2, 3, 1, 2, 3, 2, 1, 2, 3, 1, 2, 3, 1, 1, 2, 3, 1, 2, 3], \"Freq\": [0.9922724195424872, 0.9918738152026468, 0.9840548308762493, 0.994890099278695, 0.9945308172897099, 0.9869984174772849, 0.9932941767996077, 0.9926703587233948, 0.9173815671054075, 0.07908461785391445, 0.9871088146506614, 0.9918567368538888, 0.14930413092805073, 0.8140629995838956, 0.03910346286210852, 0.03764091381456565, 0.9347493597283804, 0.027603336797348145, 0.15649366608618684, 0.7078328896821374, 0.13482531232040712, 0.9867679959714967, 0.0020950488237186766, 0.010475244118593383, 0.9910826602058838, 0.9369770089091383, 0.06344115164488957, 0.021206054257949143, 0.9754784958656606, 0.0020648253375947123, 0.9663382579943254, 0.030972380063920685, 0.595566663552493, 0.03616801600521213, 0.36891376325316366, 0.832331385469877, 0.07072096739286536, 0.09792133946704434, 0.9704160304857017, 0.028437099794452796, 0.981153597367701, 0.013053041206665646, 0.006526520603332823, 0.8639450359789378, 0.13650331568467217, 0.576384861459999, 0.4218235578282674, 0.6233706222617529, 0.027340816765866357, 0.34996245460308933, 0.019247974068953528, 0.8108209076546674, 0.17082576986196255, 0.7073203848423257, 0.01340891724819575, 0.27991114755608626, 0.03024784779681835, 0.9588567751591417, 0.01209913911872734, 0.01863403749070997, 0.917726346417466, 0.06521913121748489, 0.9927718294218787, 0.006799807050834786, 0.9981213943478088, 0.9921147241775138, 0.9907891499145317, 0.007990235079955901, 0.9672152279495215, 0.033209106539039364, 0.30080332686735356, 0.10326084355147958, 0.5971170518411645, 0.9946485068122888, 0.9915040443516059, 0.9910410345655819, 0.007181456772214362, 0.7403719990889055, 0.042006921934122296, 0.21791090753325942, 0.9897510341047645, 0.19240920801960723, 0.12539027039480022, 0.6831607835302909, 0.9824703359121458, 0.014609224325831165, 0.9963355270124193, 0.9408229199972, 0.005376130971412572, 0.056449375199832, 0.09589334916453719, 0.8539074425604026, 0.050229849562376624, 0.11255704591938324, 0.7230937495427044, 0.1637193395191029, 0.8927449818639825, 0.10318158081845025, 0.9801729817592943, 0.014343994855014064, 0.9709333521197996, 0.02942222279150908, 0.0056663871545367325, 0.9689522034257813, 0.02266554861814693, 0.022239448356605226, 0.04447889671321045, 0.9340568309774194, 0.9944687510319975, 0.9933936990267775, 0.19972127969124664, 0.21636471966551718, 0.5825203990994693, 0.9936133494658409, 0.01140963969092438, 0.992638653110421, 0.990196717304297, 0.007280858215472773, 0.09311285833707808, 0.7976668197543022, 0.10863166805992443, 0.9904900464853843, 0.009087064646654902, 0.13073761233303113, 0.35560630554584466, 0.512491440345482, 0.1277446019539838, 0.24129535924641382, 0.6302067029729866, 0.06587220019630943, 0.8735226547771467, 0.060144182787934694, 0.2600732740833674, 0.05689102870573661, 0.6826923444688393, 0.9908687418720333, 0.9401800060419547, 0.02272338383182972, 0.036925498726723294, 0.4240582956552644, 0.10916352165383043, 0.47024286250880803, 0.9040309182459143, 0.0059086988120647995, 0.09158483158700438, 0.035027559921025506, 0.8888243329960221, 0.0766227873272433, 0.9902820532676727, 0.9967200037165356, 0.959219502001271, 0.01908894531345813, 0.023861181641822663, 0.21394491977361352, 0.07923885917541242, 0.7052258466611705, 0.055800459943268356, 0.8885150160197346, 0.055800459943268356, 0.9673695898282894, 0.02906260570299582, 0.9344958024602, 0.01198071541615641, 0.053913219372703845, 0.9814691525155722, 0.018288245077929918, 0.9874384633131599, 0.011157496760600677, 0.07858838086895975, 0.028953614004353593, 0.8892895729908603, 0.4792856148276759, 0.05751427377932111, 0.4601141902345689, 0.9869992999245849, 0.9929318544762356, 0.9972692136607474, 0.8175474960714773, 0.02989204738835383, 0.15244944168060454, 0.002743299861853958, 0.9930745499911328, 0.004114949792780937, 0.860732667392179, 0.07611921548366209, 0.06148090481372707, 0.8770389924060557, 0.041526467443468544, 0.08139187618919835, 0.9856955365591538, 0.9910537417937636, 0.023967324248976865, 0.8046173140727948, 0.17461907667111717, 0.9288969394775174, 0.018577938789550347, 0.053079825113000995, 0.9968037977756979, 0.3729844182096222, 0.060586301435065534, 0.5661032540338936, 0.9768564277005756, 0.023258486373823228, 0.9595584424637397, 0.020622621393026012, 0.019409526016965658, 0.9679978776510301, 0.024722932042167762, 0.007607056012974696, 0.07471247049274966, 0.8591934106666211, 0.06537341168115596, 0.04653246654947452, 0.9492623176092803, 0.975951509551493, 0.9752649593502227, 0.007957165456844648, 0.9906670993771586, 0.9939303646012531, 0.9755139016981749, 0.9825090912802538, 0.8809890742662623, 0.12028264113598415, 0.9883405581288706, 0.9960886948270704, 0.9749879265132467, 0.994569219690528, 0.9750943537414395, 0.9751788151376154, 0.9749742877586876, 0.03174458567547552, 0.9602737166831345, 0.9756325536947766, 0.05469400727267494, 0.013673501818168735, 0.9366348745445584, 0.018226774368374662, 0.9842458158922318, 0.975951526420091, 0.9749512948608079, 0.9976338820661108, 0.9468222666802756, 0.0177212723710212, 0.037974155080759714, 0.06528198980945248, 0.02176066326981749, 0.9139478573323346, 0.9751478960259851, 0.9879822232534704, 0.020055463942399397, 0.9802108001847706, 0.975772954286546, 0.9756333504320319, 0.9957220722327892, 0.9972879457542897, 0.9761477840639657, 0.036839261325958605, 0.9578207944749239, 0.9906762256862881, 0.9751487501982878, 0.9961154954976534, 0.9974990295024448, 0.8700916236992108, 0.07758778810056656, 0.04987786377893565, 0.6912333605674149, 0.05305519214881474, 0.25618078494713403, 0.9979680514894628, 0.27003024486125937, 0.08151856448641792, 0.6521485158913434, 0.9910556599244871, 0.9915083705596809, 0.9575872943044613, 0.043526695195657335, 0.9126103496886109, 0.013420740436597219, 0.07381407240128471, 0.1704815844511275, 0.09376487144812011, 0.7415948923624045, 0.906992662351437, 0.09269170474842767, 0.23017555509939125, 0.38711343357624894, 0.3801384167550552, 0.9892253796800369, 0.5047629921187662, 0.051286079413136676, 0.4426798433554955, 0.3425606089031432, 0.02894878385096985, 0.6320484474128417, 0.12111015876706818, 0.012111015876706818, 0.8719931431228909, 0.9908882179240188, 0.9937234412670366, 0.9888463439452742, 0.00882898521379709, 0.9975630306837857, 0.9952193811449618, 0.0021220029448719866, 0.9791300454576801, 0.0042944300239371935, 0.012883290071811581, 0.010382091978051653, 0.986298737914907, 0.9915388354204521, 0.003558960779980331, 0.9502425282547484, 0.04626649013974431, 0.05990702180052735, 0.9028843999936622, 0.03851165687176759, 0.9929766223513028, 0.9917787555635174, 0.011667985359570792, 0.9917100655550807, 0.009966935332211865, 0.9820684098543903, 0.1636345677947168, 0.23727012330233938, 0.5972661724507163, 0.9840400658504207, 0.988879112660215, 0.6245139581512368, 0.019888979558956583, 0.35601273410532286, 0.9973435921082368, 0.997973063205131, 0.9522218800913828, 0.04516467415453199, 0.16057196146590239, 0.8296218009071623, 0.011469425818993028, 0.9884834282432563, 0.9756289828571947, 0.9805262061013761, 0.018270674647851728, 0.9917068111244522, 0.9985326438861405, 0.9923959460973667, 0.0031305865807487905, 0.006261173161497581, 0.07312829995285422, 0.14625659990570844, 0.7861292244931828, 0.06932964362568805, 0.4246440672073393, 0.5026399162862384, 0.9911050411183507, 0.09157879171915331, 0.08013144275425915, 0.8242091254723799, 0.01950755083746633, 0.9714760317058233, 0.007803020334986532, 0.9981226638143798, 0.06826563742844752, 0.8226009310127925, 0.10922501988551603, 0.010233693861438213, 0.8749808251529672, 0.11512905594117989], \"Term\": [\"01\", \"1890\", \"1893\", \"1946\", \"1947\", \"1980\", \"30th\", \"afghanistan\", \"ahead\", \"ahead\", \"al\", \"alleg\", \"alli\", \"alli\", \"alli\", \"american\", \"american\", \"american\", \"area\", \"area\", \"area\", \"articl\", \"articl\", \"articl\", \"atom\", \"basic\", \"basic\", \"battleship\", \"battleship\", \"billion\", \"billion\", \"billion\", \"board\", \"board\", \"board\", \"bond\", \"bond\", \"bond\", \"boundari\", \"boundari\", \"british\", \"british\", \"british\", \"budget\", \"budget\", \"bureau\", \"bureau\", \"canal\", \"canal\", \"canal\", \"cannot\", \"cannot\", \"cannot\", \"cent\", \"cent\", \"cent\", \"challeng\", \"challeng\", \"challeng\", \"child\", \"child\", \"child\", \"circul\", \"circul\", \"coin\", \"coinag\", \"commenc\", \"commenc\", \"commission\", \"commission\", \"committe\", \"committe\", \"committe\", \"communist\", \"consul\", \"consular\", \"consular\", \"contract\", \"contract\", \"contract\", \"copi\", \"corpor\", \"corpor\", \"corpor\", \"correspond\", \"correspond\", \"coverag\", \"currenc\", \"currenc\", \"currenc\", \"cut\", \"cut\", \"cut\", \"deficit\", \"deficit\", \"deficit\", \"democraci\", \"democraci\", \"democrat\", \"democrat\", \"disposit\", \"disposit\", \"drug\", \"drug\", \"drug\", \"earner\", \"earner\", \"earner\", \"emigr\", \"emperor\", \"employe\", \"employe\", \"employe\", \"ensur\", \"environ\", \"environ\", \"exhibit\", \"exhibit\", \"expand\", \"expand\", \"expand\", \"exposit\", \"exposit\", \"farm\", \"farm\", \"farm\", \"farmer\", \"farmer\", \"farmer\", \"fight\", \"fight\", \"fight\", \"forest\", \"forest\", \"forest\", \"fortif\", \"franc\", \"franc\", \"franc\", \"function\", \"function\", \"function\", \"furnish\", \"furnish\", \"furnish\", \"get\", \"get\", \"get\", \"global\", \"goal\", \"gold\", \"gold\", \"gold\", \"government\", \"government\", \"government\", \"hard\", \"hard\", \"hard\", \"heretofor\", \"heretofor\", \"injuri\", \"injuri\", \"injuri\", \"instruct\", \"instruct\", \"intercours\", \"intercours\", \"interst\", \"interst\", \"interst\", \"investig\", \"investig\", \"investig\", \"iran\", \"iraq\", \"iraqi\", \"island\", \"island\", \"island\", \"job\", \"job\", \"job\", \"juli\", \"juli\", \"juli\", \"june\", \"june\", \"june\", \"kid\", \"legat\", \"level\", \"level\", \"level\", \"mail\", \"mail\", \"mail\", \"medicar\", \"method\", \"method\", \"method\", \"mexican\", \"mexican\", \"mexico\", \"mexico\", \"mexico\", \"minist\", \"minist\", \"minist\", \"move\", \"move\", \"move\", \"na\", \"na\", \"nall\", \"nan\", \"nand\", \"nand\", \"nare\", \"nat\", \"nato\", \"navig\", \"navig\", \"nbe\", \"nbi\", \"nbut\", \"nfor\", \"nfrom\", \"nha\", \"nhave\", \"ni\", \"ni\", \"nif\", \"nin\", \"nin\", \"nin\", \"nit\", \"nit\", \"nnation\", \"nnot\", \"nof\", \"note\", \"note\", \"note\", \"nour\", \"nour\", \"nour\", \"nshould\", \"nthat\", \"nthe\", \"nthe\", \"ntheir\", \"nthey\", \"nto\", \"nuclear\", \"nunder\", \"nwe\", \"nwe\", \"nwhich\", \"nwill\", \"nwith\", \"occurr\", \"pension\", \"pension\", \"pension\", \"per\", \"per\", \"per\", \"percent\", \"philippin\", \"philippin\", \"philippin\", \"plenipotentiari\", \"postag\", \"postmast\", \"postmast\", \"preced\", \"preced\", \"preced\", \"procedur\", \"procedur\", \"procedur\", \"program\", \"program\", \"project\", \"project\", \"project\", \"proprieti\", \"railroad\", \"railroad\", \"railroad\", \"railway\", \"railway\", \"railway\", \"readjust\", \"readjust\", \"readjust\", \"redress\", \"sector\", \"silver\", \"silver\", \"soviet\", \"spain\", \"spain\", \"spanish\", \"spanish\", \"spanish\", \"speaker\", \"speaker\", \"speci\", \"spend\", \"spend\", \"spend\", \"start\", \"start\", \"start\", \"steamer\", \"steamship\", \"steamship\", \"stipul\", \"stipul\", \"strategi\", \"studi\", \"studi\", \"studi\", \"superintend\", \"talk\", \"tariff\", \"tariff\", \"tariff\", \"technolog\", \"terrorist\", \"texa\", \"texa\", \"thank\", \"thank\", \"thank\", \"thereof\", \"tile\", \"today\", \"today\", \"tomorrow\", \"tonight\", \"tribe\", \"tribe\", \"tribe\", \"type\", \"type\", \"type\", \"veteran\", \"veteran\", \"veteran\", \"vietnam\", \"waterway\", \"waterway\", \"waterway\", \"weapon\", \"weapon\", \"weapon\", \"whilst\", \"women\", \"women\", \"women\", \"worker\", \"worker\", \"worker\"]}, \"R\": 30, \"lambda.step\": 0.01, \"plot.opts\": {\"xlab\": \"PC1\", \"ylab\": \"PC2\"}, \"topic.order\": [2, 1, 3]};\n",
              "\n",
              "function LDAvis_load_lib(url, callback){\n",
              "  var s = document.createElement('script');\n",
              "  s.src = url;\n",
              "  s.async = true;\n",
              "  s.onreadystatechange = s.onload = callback;\n",
              "  s.onerror = function(){console.warn(\"failed to load library \" + url);};\n",
              "  document.getElementsByTagName(\"head\")[0].appendChild(s);\n",
              "}\n",
              "\n",
              "if(typeof(LDAvis) !== \"undefined\"){\n",
              "   // already loaded: just create the visualization\n",
              "   !function(LDAvis){\n",
              "       new LDAvis(\"#\" + \"ldavis_el1761400298849687362249278380\", ldavis_el1761400298849687362249278380_data);\n",
              "   }(LDAvis);\n",
              "}else if(typeof define === \"function\" && define.amd){\n",
              "   // require.js is available: use it to load d3/LDAvis\n",
              "   require.config({paths: {d3: \"https://d3js.org/d3.v5\"}});\n",
              "   require([\"d3\"], function(d3){\n",
              "      window.d3 = d3;\n",
              "      LDAvis_load_lib(\"https://cdn.jsdelivr.net/gh/bmabey/pyLDAvis@3.4.0/pyLDAvis/js/ldavis.v3.0.0.js\", function(){\n",
              "        new LDAvis(\"#\" + \"ldavis_el1761400298849687362249278380\", ldavis_el1761400298849687362249278380_data);\n",
              "      });\n",
              "    });\n",
              "}else{\n",
              "    // require.js not available: dynamically load d3 & LDAvis\n",
              "    LDAvis_load_lib(\"https://d3js.org/d3.v5.js\", function(){\n",
              "         LDAvis_load_lib(\"https://cdn.jsdelivr.net/gh/bmabey/pyLDAvis@3.4.0/pyLDAvis/js/ldavis.v3.0.0.js\", function(){\n",
              "                 new LDAvis(\"#\" + \"ldavis_el1761400298849687362249278380\", ldavis_el1761400298849687362249278380_data);\n",
              "            })\n",
              "         });\n",
              "}\n",
              "</script>"
            ]
          },
          "metadata": {},
          "execution_count": 14
        }
      ]
    },
    {
      "cell_type": "markdown",
      "source": [
        "##References\n",
        "[1] S. Kapadia. \"Topic Modeling in Python: Latent Dirichlet Allocation (LDA).\" Medium. https://towardsdatascience.com/end-to-end-topic-modeling-in-python-latent-dirichlet-allocation-lda-35ce4ed6b3e0 (retrieved Feb. 19, 2023).\n",
        "\n",
        "[2] J. Barber. \"Latent Dirichlet Allocation (LDA) with Python.\" AmazonAWS. https://rstudio-pubs-static.s3.amazonaws.com/79360_850b2a69980c4488b1db95987a24867a.html (retrieved Feb. 19, 2023)."
      ],
      "metadata": {
        "id": "0qiikDOBLzYq"
      }
    }
  ]
}